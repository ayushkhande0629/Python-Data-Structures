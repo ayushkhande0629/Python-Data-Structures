{
  "nbformat": 4,
  "nbformat_minor": 0,
  "metadata": {
    "colab": {
      "provenance": []
    },
    "kernelspec": {
      "name": "python3",
      "display_name": "Python 3"
    },
    "language_info": {
      "name": "python"
    }
  },
  "cells": [
    {
      "cell_type": "markdown",
      "source": [
        "# Python Data Structures"
      ],
      "metadata": {
        "id": "-FJDQoSkMf4L"
      }
    },
    {
      "cell_type": "markdown",
      "source": [
        "# 1. What are data structures, and why are they important?  \n",
        "- Data structures are ways of organizing and storing data in a computer to perform operations efficiently. They are important because they help manage large amounts of data, improve code efficiency, and determine how data is processed and accessed in programs.\n",
        "\n",
        "# 2. Explain the difference between mutable and immutable data types with examples.  \n",
        "- Mutable data types (like lists and dictionaries) can be changed after creation, while immutable types (like tuples and strings) cannot. For example, you can add elements to a list, but you cannot change a string once it's created.\n",
        "\n",
        "# 3. What are the main differences between lists and tuples in Python?  \n",
        "- Lists are mutable and allow modification after creation, while tuples are immutable and cannot be changed. Lists use square brackets ([]) and are typically used for collections needing modification; tuples use parentheses (()) and are used for fixed collections.\n",
        "\n",
        "# 4. Describe how dictionaries store data.  \n",
        "- Dictionaries store data as key-value pairs, where each unique key maps to a value. Internally, Python uses hash tables to provide fast access to values based on their keys.\n",
        "\n",
        "# 5. Why might you use a set instead of a list in Python?  \n",
        "- Sets are used when you need to store unique elements and do not need ordering. They automatically remove duplicates and provide efficient membership checks compared to lists.\n",
        "\n",
        "# 6. What is a string in Python, and how is it different from a list?  \n",
        "- A string is an immutable sequence of characters, while a list is a mutable sequence of elements (which can be any type). Unlike lists, strings cannot be modified after creation.\n",
        "\n",
        "# 7. How do tuples ensure data integrity in Python?  \n",
        "- Tuples are immutable, so their elements cannot be changed, deleted, or reordered after creation. This helps ensure that the data remains constant throughout the program.\n",
        "\n",
        "# 8. What is a hash table, and how does it relate to dictionaries in Python?  \n",
        "- A hash table is a data structure that maps keys to values using a hash function for fast lookup. Python dictionaries use hash tables under the hood to enable quick access to their items.\n",
        "\n",
        "# 9. Can lists contain different data types in Python?  \n",
        "- Yes, Python lists can hold elements of any type, including integers, strings, other lists, or even objects, allowing for heterogeneous collections of data.\n",
        "\n",
        "# 10. Explain why strings are immutable in Python.  \n",
        "- Strings are immutable to improve performance and safety, especially when used as keys in dictionaries or elements in sets. This property ensures consistency and prevents accidental changes.\n",
        "\n",
        "# 11. What advantages do dictionaries offer over lists for certain tasks?  \n",
        "- Dictionaries provide much faster lookups for associated data using keys rather than searching by position or value in a list. They are ideal for associative arrays or mappings.\n",
        "\n",
        "# 12. Describe a scenario where using a tuple would be preferable over a list.  \n",
        "- Tuples are preferable when you want to make sure the data cannot change, such as representing the fixed coordinates of a point (x, y) or keys in a dictionary.\n",
        "\n",
        "# 13. How do sets handle duplicate values in Python?  \n",
        "- When you add duplicate values to a set, only one instance is kept. Sets automatically ensure that every element is unique.\n",
        "\n",
        "# 14. How does the “in” keyword work differently for lists and dictionaries?  \n",
        "- For lists, \"in\" checks if a value is present among the elements; for dictionaries, it checks if a key exists, not a value.\n",
        "\n",
        "# 15. Can you modify the elements of a tuple? Explain why or why not.  \n",
        "- No, elements of a tuple cannot be modified because tuples are immutable. Any attempt to change, add, or remove elements results in an error.\n",
        "\n",
        "# 16. What is a nested dictionary, and give an example of its use case.  \n",
        "- A nested dictionary is a dictionary whose values are also dictionaries. They are used for representing complex data like hierarchical structures, for example, storing employee data with personal and job info.\n",
        "\n",
        "# 17. Describe the time complexity of accessing elements in a dictionary.  \n",
        "- Accessing elements by key in a Python dictionary typically has average-case O(1) time complexity due to the underlying hash table.\n",
        "\n",
        "# 18. In what situations are lists preferred over dictionaries?  \n",
        "- Lists are preferred when you need ordered collections, sequential access, or work with sets of items that do not have unique identifiers.\n",
        "\n",
        "# 19. Why are dictionaries considered unordered, and how does that affect data retrieval?  \n",
        "- Historically, dictionaries did not guarantee any specific order for their elements. This means you cannot rely on the order of items; retrieval is always via keys, not position.\n",
        "\n",
        "# 20. Explain the difference between a list and a dictionary in terms of data retrieval.  \n",
        "- Lists retrieve items by integer index (position), while dictionaries retrieve values by unique keys, allowing for fast, direct access to related data."
      ],
      "metadata": {
        "id": "a-pOfRzVMo0P"
      }
    },
    {
      "cell_type": "code",
      "source": [
        "#1. Write a code to create a string with your name and print it.\n",
        "name=\"Ayush Khande\"\n",
        "print(name)"
      ],
      "metadata": {
        "colab": {
          "base_uri": "https://localhost:8080/"
        },
        "id": "j72tjHnrPID0",
        "outputId": "8a99cd44-1624-4bc0-e1e9-f05bd3aa7468"
      },
      "execution_count": 2,
      "outputs": [
        {
          "output_type": "stream",
          "name": "stdout",
          "text": [
            "Ayush Khande\n"
          ]
        }
      ]
    },
    {
      "cell_type": "code",
      "source": [
        "#2. Write a code to find the length of the string \"Hello World\".\n",
        "print(len(\"Hello World\"))"
      ],
      "metadata": {
        "colab": {
          "base_uri": "https://localhost:8080/"
        },
        "id": "8fAfsZv0PZMW",
        "outputId": "31ad9090-ba03-4e0c-8afc-61bf30e113ac"
      },
      "execution_count": 4,
      "outputs": [
        {
          "output_type": "stream",
          "name": "stdout",
          "text": [
            "11\n"
          ]
        }
      ]
    },
    {
      "cell_type": "code",
      "source": [
        "# 3. Write a code to slice the first 3 characters from the string \"Python Programming\"\n",
        "print(\"Python Programming\"[0:3])"
      ],
      "metadata": {
        "colab": {
          "base_uri": "https://localhost:8080/"
        },
        "id": "gl2o1TubPicF",
        "outputId": "0ce468a0-cc66-4bbd-c238-ffa797dce5fe"
      },
      "execution_count": 9,
      "outputs": [
        {
          "output_type": "stream",
          "name": "stdout",
          "text": [
            "Pyt\n"
          ]
        }
      ]
    },
    {
      "cell_type": "code",
      "source": [
        "#4. Write a code to convert the string \"hello\" to uppercase\n",
        "print(\"hello\".upper())\n"
      ],
      "metadata": {
        "colab": {
          "base_uri": "https://localhost:8080/"
        },
        "id": "xQo4LPmIQJow",
        "outputId": "6ee846ac-b102-4437-c4a2-b8c97deb6fea"
      },
      "execution_count": 11,
      "outputs": [
        {
          "output_type": "stream",
          "name": "stdout",
          "text": [
            "HELLO\n"
          ]
        }
      ]
    },
    {
      "cell_type": "code",
      "source": [
        "# 5. Write a code to replace the word \"apple\" with \"orange\" in the string \"I like apple\"\n",
        "print(\"I like apple\".replace(\"apple\",\"orange\"))"
      ],
      "metadata": {
        "colab": {
          "base_uri": "https://localhost:8080/"
        },
        "id": "t2ssuOGrQXTn",
        "outputId": "29050c64-1183-4540-bc2a-4fcdd21acfda"
      },
      "execution_count": 12,
      "outputs": [
        {
          "output_type": "stream",
          "name": "stdout",
          "text": [
            "I like orange\n"
          ]
        }
      ]
    },
    {
      "cell_type": "code",
      "source": [
        "# 6. Write a code to create a list with numbers 1 to 5 and print it\n",
        "print([1,2,3,4,5])"
      ],
      "metadata": {
        "colab": {
          "base_uri": "https://localhost:8080/"
        },
        "id": "IdGsXsbTQgzv",
        "outputId": "49add17c-66a6-4013-cd0c-68df7df13c6c"
      },
      "execution_count": 15,
      "outputs": [
        {
          "output_type": "stream",
          "name": "stdout",
          "text": [
            "[1, 2, 3, 4, 5]\n"
          ]
        }
      ]
    },
    {
      "cell_type": "code",
      "source": [
        "# 7. Write a code to append the number 10 to the list [1,2,3,4].\n",
        "print([1,2,3,4]+[10])"
      ],
      "metadata": {
        "colab": {
          "base_uri": "https://localhost:8080/"
        },
        "id": "HkpSr1ZPRO4X",
        "outputId": "c844748b-bf4f-4bdd-a208-ba6cc661dfdf"
      },
      "execution_count": 16,
      "outputs": [
        {
          "output_type": "stream",
          "name": "stdout",
          "text": [
            "[1, 2, 3, 4, 10]\n"
          ]
        }
      ]
    },
    {
      "cell_type": "code",
      "source": [
        "# 8. Write a code to remove the number 3 from the list [1,2,3,4,5]\n",
        "list=[1,2,3,4,5]\n",
        "list.remove(3)\n",
        "print(list)"
      ],
      "metadata": {
        "colab": {
          "base_uri": "https://localhost:8080/"
        },
        "id": "M0QPoarRRSM1",
        "outputId": "863a9b0e-32c4-43b6-ed94-9a42eec351b7"
      },
      "execution_count": 34,
      "outputs": [
        {
          "output_type": "stream",
          "name": "stdout",
          "text": [
            "[1, 2, 4, 5]\n"
          ]
        }
      ]
    },
    {
      "cell_type": "code",
      "source": [
        "# 9. Write a code to access the second element in the list ['a', 'b', 'c', 'd']\n",
        "list=['a', 'b', 'c', 'd']\n",
        "print(list[1])"
      ],
      "metadata": {
        "colab": {
          "base_uri": "https://localhost:8080/"
        },
        "id": "KlRux9C5STvr",
        "outputId": "a30f6142-2d41-48e0-930d-5342d8e0047b"
      },
      "execution_count": 35,
      "outputs": [
        {
          "output_type": "stream",
          "name": "stdout",
          "text": [
            "b\n"
          ]
        }
      ]
    },
    {
      "cell_type": "code",
      "source": [
        "# 10. Write a code to reverse the list [10, 20, 30, 40, 50]\n",
        "list=[10, 20, 30, 40, 50]\n",
        "print(list[::-1])"
      ],
      "metadata": {
        "colab": {
          "base_uri": "https://localhost:8080/"
        },
        "id": "YqNxuVfMSWw0",
        "outputId": "22611e0c-0481-4d86-d48c-ee99271edd59"
      },
      "execution_count": 36,
      "outputs": [
        {
          "output_type": "stream",
          "name": "stdout",
          "text": [
            "[50, 40, 30, 20, 10]\n"
          ]
        }
      ]
    },
    {
      "cell_type": "code",
      "source": [
        "# 11. Write a code to create a tuple with the elements 100, 200, 300 and print it.\n",
        "tuple=(100, 200, 300)\n",
        "print(tuple)"
      ],
      "metadata": {
        "colab": {
          "base_uri": "https://localhost:8080/"
        },
        "id": "nAypu5MUSdX8",
        "outputId": "3462a07b-bc33-4911-b7fb-d0c9253abfe8"
      },
      "execution_count": 37,
      "outputs": [
        {
          "output_type": "stream",
          "name": "stdout",
          "text": [
            "(100, 200, 300)\n"
          ]
        }
      ]
    },
    {
      "cell_type": "code",
      "source": [
        "# 12. Write a code to access the second-to-last element of the tuple ('red', 'green', 'blue', 'yellow').\n",
        "tuple=('red', 'green', 'blue', 'yellow')\n",
        "print(tuple[-2])"
      ],
      "metadata": {
        "colab": {
          "base_uri": "https://localhost:8080/"
        },
        "id": "GsdLEcgeSgjr",
        "outputId": "da57c0a9-272c-4fe5-b589-af722966830d"
      },
      "execution_count": 39,
      "outputs": [
        {
          "output_type": "stream",
          "name": "stdout",
          "text": [
            "blue\n"
          ]
        }
      ]
    },
    {
      "cell_type": "code",
      "source": [
        "# 13. Write a code to find the minimum number in the tuple (10, 20, 5, 15).\n",
        "tuple=(10, 20, 5, 15)\n",
        "print(min(tuple))"
      ],
      "metadata": {
        "colab": {
          "base_uri": "https://localhost:8080/"
        },
        "id": "MZ3ZvLpDSk3d",
        "outputId": "4a979f21-1062-4856-ce7d-98a14d30ca23"
      },
      "execution_count": 41,
      "outputs": [
        {
          "output_type": "stream",
          "name": "stdout",
          "text": [
            "5\n"
          ]
        }
      ]
    },
    {
      "cell_type": "code",
      "source": [
        "# 14. Write a code to find the index of the element \"cat\" in the tuple ('dog', 'cat', 'rabbit').\n",
        "tuple=('dog', 'cat', 'rabbit')\n",
        "print(tuple.index(\"cat\"))"
      ],
      "metadata": {
        "colab": {
          "base_uri": "https://localhost:8080/"
        },
        "id": "8n_-WedrSop8",
        "outputId": "3a82f161-5e9f-4780-817e-7303314ae1bd"
      },
      "execution_count": 43,
      "outputs": [
        {
          "output_type": "stream",
          "name": "stdout",
          "text": [
            "1\n"
          ]
        }
      ]
    },
    {
      "cell_type": "code",
      "source": [
        "# 15. Write a code to create a tuple containing three different fruits and check if \"kiwi\" is in it.\n",
        "tuple=(\"apple\",\"banana\",\"kiwi\")\n",
        "print(\"kiwi\" in tuple)"
      ],
      "metadata": {
        "colab": {
          "base_uri": "https://localhost:8080/"
        },
        "id": "2Rd9Ow8eSsmW",
        "outputId": "02a0154e-ba77-4bd7-cc47-4cc29ce02066"
      },
      "execution_count": 44,
      "outputs": [
        {
          "output_type": "stream",
          "name": "stdout",
          "text": [
            "True\n"
          ]
        }
      ]
    },
    {
      "cell_type": "code",
      "source": [
        "# 16. Write a code to create a set with the elements 'a', 'b', 'c' and print it.\n",
        "set={'a','b','c'}\n",
        "print(set)"
      ],
      "metadata": {
        "colab": {
          "base_uri": "https://localhost:8080/"
        },
        "id": "nlQLLMrVSu6U",
        "outputId": "dcf59586-81e5-419a-d229-fd890bb7aabe"
      },
      "execution_count": 45,
      "outputs": [
        {
          "output_type": "stream",
          "name": "stdout",
          "text": [
            "{'a', 'c', 'b'}\n"
          ]
        }
      ]
    },
    {
      "cell_type": "code",
      "source": [
        "# 17. Write a code to clear all elements from the set {1, 2, 3, 4, 5}.\n",
        "set={1, 2, 3, 4, 5}\n",
        "set.clear()\n",
        "print(set)"
      ],
      "metadata": {
        "colab": {
          "base_uri": "https://localhost:8080/"
        },
        "id": "yUT-hSH3SySj",
        "outputId": "3c26587a-34d0-427f-9a2b-acd4f5d20b4e"
      },
      "execution_count": 46,
      "outputs": [
        {
          "output_type": "stream",
          "name": "stdout",
          "text": [
            "set()\n"
          ]
        }
      ]
    },
    {
      "cell_type": "code",
      "source": [
        "# 18. Write a code to remove the element 4 from the set {1, 2, 3, 4}.\n",
        "set={1, 2, 3, 4}\n",
        "set.remove(4)\n",
        "print(set)"
      ],
      "metadata": {
        "colab": {
          "base_uri": "https://localhost:8080/"
        },
        "id": "j_Polfk2S0Ws",
        "outputId": "f23bf110-7730-4126-e5bd-481123af6d78"
      },
      "execution_count": 47,
      "outputs": [
        {
          "output_type": "stream",
          "name": "stdout",
          "text": [
            "{1, 2, 3}\n"
          ]
        }
      ]
    },
    {
      "cell_type": "code",
      "source": [
        "# 19. Write a code to find the union of two sets {1, 2, 3} and {3, 4, 5}.\n",
        "set1={1, 2, 3}\n",
        "set2={3, 4, 5}\n",
        "print(set1.union(set2))"
      ],
      "metadata": {
        "colab": {
          "base_uri": "https://localhost:8080/"
        },
        "id": "a2OSYWvPS7-e",
        "outputId": "9ea1509b-4f94-4f3e-f502-05dc6662ad73"
      },
      "execution_count": 48,
      "outputs": [
        {
          "output_type": "stream",
          "name": "stdout",
          "text": [
            "{1, 2, 3, 4, 5}\n"
          ]
        }
      ]
    },
    {
      "cell_type": "code",
      "source": [
        "# 20. Write a code to find the intersection of two sets {1, 2, 3} and {2, 3, 4}.\n",
        "set1={1, 2, 3}\n",
        "set2={2, 3, 4}\n",
        "print(set1.intersection(set2))"
      ],
      "metadata": {
        "colab": {
          "base_uri": "https://localhost:8080/"
        },
        "id": "B7lGqDUbS94T",
        "outputId": "e948deae-4e00-4564-f232-0a34d6103b35"
      },
      "execution_count": 60,
      "outputs": [
        {
          "output_type": "stream",
          "name": "stdout",
          "text": [
            "{2, 3}\n"
          ]
        }
      ]
    },
    {
      "cell_type": "code",
      "source": [
        "# 21. Write a code to create a dictionary with the keys \"name\", \"age\", and \"city\", and print it.\n",
        "dict={\"name\":\"Ayush\",\"age\":20,\"city\":\"Mumbai\"}\n",
        "print(dict)"
      ],
      "metadata": {
        "colab": {
          "base_uri": "https://localhost:8080/"
        },
        "id": "tLHLZ4XJdev0",
        "outputId": "57d81a2e-e1b9-46b2-85d0-e395867729c2"
      },
      "execution_count": 61,
      "outputs": [
        {
          "output_type": "stream",
          "name": "stdout",
          "text": [
            "{'name': 'Ayush', 'age': 20, 'city': 'Mumbai'}\n"
          ]
        }
      ]
    },
    {
      "cell_type": "code",
      "source": [
        "# 22. Write a code to add a new key-value pair \"country\": \"USA\" to the dictionary {'name': 'John', 'age': 25}.\n",
        "dict={'name': 'John', 'age': 25}\n",
        "dict[\"country\"]=\"USA\"\n",
        "print(dict)"
      ],
      "metadata": {
        "colab": {
          "base_uri": "https://localhost:8080/"
        },
        "id": "n94CBOW0dj1K",
        "outputId": "b7c24f2a-1d7a-419c-d69b-92064ab38e20"
      },
      "execution_count": 62,
      "outputs": [
        {
          "output_type": "stream",
          "name": "stdout",
          "text": [
            "{'name': 'John', 'age': 25, 'country': 'USA'}\n"
          ]
        }
      ]
    },
    {
      "cell_type": "code",
      "source": [
        "# 23. Write a code to access the value associated with the key \"name\" in the dictionary {'name': 'Alice', 'age': 30}.\n",
        "dict={'name': 'Alice', 'age': 30}\n",
        "print(dict[\"name\"])"
      ],
      "metadata": {
        "colab": {
          "base_uri": "https://localhost:8080/"
        },
        "id": "Gn_ZPuKodnSc",
        "outputId": "1bda63f6-1156-49d6-baff-6b81add076d7"
      },
      "execution_count": 63,
      "outputs": [
        {
          "output_type": "stream",
          "name": "stdout",
          "text": [
            "Alice\n"
          ]
        }
      ]
    },
    {
      "cell_type": "code",
      "source": [
        "# 24. Write a code to remove the key \"age\" from the dictionary {'name': 'Bob', 'age': 22, 'city': 'New York'}.\n",
        "dict={'name': 'Bob', 'age': 22, 'city': 'New York'}\n",
        "del dict[\"age\"]\n",
        "print(dict)"
      ],
      "metadata": {
        "colab": {
          "base_uri": "https://localhost:8080/"
        },
        "id": "DKT71TLfdtkK",
        "outputId": "c2c45100-5586-43f5-a8d3-42a4dbc96419"
      },
      "execution_count": 64,
      "outputs": [
        {
          "output_type": "stream",
          "name": "stdout",
          "text": [
            "{'name': 'Bob', 'city': 'New York'}\n"
          ]
        }
      ]
    },
    {
      "cell_type": "code",
      "source": [
        "# 25. Write a code to check if the key \"city\" exists in the dictionary {'name': 'Alice', 'city': 'Paris'}.\n",
        "dict={'name': 'Alice', 'city': 'Paris'}\n",
        "print(\"city\" in dict)"
      ],
      "metadata": {
        "colab": {
          "base_uri": "https://localhost:8080/"
        },
        "id": "PHfyGqLAdwB9",
        "outputId": "ea3b8b54-2950-437f-d64b-dd462cceb787"
      },
      "execution_count": 65,
      "outputs": [
        {
          "output_type": "stream",
          "name": "stdout",
          "text": [
            "True\n"
          ]
        }
      ]
    },
    {
      "cell_type": "code",
      "source": [
        "# 26. Write a code to create a list, a tuple, and a dictionary, and print them all.\n",
        "list=[1,2,3,4]\n",
        "tuple=(1,2,3,4)\n",
        "dict={\"name\":\"Ayush\",\"age\":20,\"city\":\"Mumbai\"}\n",
        "print(list)\n",
        "print(tuple)\n",
        "print(dict)"
      ],
      "metadata": {
        "colab": {
          "base_uri": "https://localhost:8080/"
        },
        "id": "zJaDycA2dy9y",
        "outputId": "d10863a6-a257-4735-f689-ff6e035df37b"
      },
      "execution_count": 66,
      "outputs": [
        {
          "output_type": "stream",
          "name": "stdout",
          "text": [
            "[1, 2, 3, 4]\n",
            "(1, 2, 3, 4)\n",
            "{'name': 'Ayush', 'age': 20, 'city': 'Mumbai'}\n"
          ]
        }
      ]
    },
    {
      "cell_type": "code",
      "source": [
        "# 27. Write a code to create a list of 5 random numbers between 1 and 100, sort it in ascending order, and print the result.\n",
        "list=[1,2,3,4,5]\n",
        "list.sort()\n",
        "print(list)"
      ],
      "metadata": {
        "colab": {
          "base_uri": "https://localhost:8080/"
        },
        "id": "cAPMc5xkd0sD",
        "outputId": "c37489d0-645d-41d7-f2eb-b60844b03e5b"
      },
      "execution_count": 67,
      "outputs": [
        {
          "output_type": "stream",
          "name": "stdout",
          "text": [
            "[1, 2, 3, 4, 5]\n"
          ]
        }
      ]
    },
    {
      "cell_type": "code",
      "source": [
        "# 28. Write a code to create a list with strings and print the element at the third index.\n",
        "list=[\"apple\",\"banana\",\"kiwi\"]\n",
        "print(list[2])"
      ],
      "metadata": {
        "colab": {
          "base_uri": "https://localhost:8080/"
        },
        "id": "Q_COmB3Kd24g",
        "outputId": "565bfe29-3dfe-42bd-cc1f-6ae7c412e00b"
      },
      "execution_count": 68,
      "outputs": [
        {
          "output_type": "stream",
          "name": "stdout",
          "text": [
            "kiwi\n"
          ]
        }
      ]
    },
    {
      "cell_type": "code",
      "source": [
        "# 29. Write a code to combine two dictionaries into one and print the result.\n",
        "d1 = {\"a\": 1, \"b\": 2}\n",
        "d2 = {\"c\": 3, \"d\": 4}\n",
        "d_combined = {**d1, **d2}\n",
        "print(d_combined)"
      ],
      "metadata": {
        "colab": {
          "base_uri": "https://localhost:8080/"
        },
        "id": "YIOxu9-_d4jy",
        "outputId": "3bda7990-abc4-4531-b481-020a89f844f2"
      },
      "execution_count": 71,
      "outputs": [
        {
          "output_type": "stream",
          "name": "stdout",
          "text": [
            "{'a': 1, 'b': 2, 'c': 3, 'd': 4}\n"
          ]
        }
      ]
    },
    {
      "cell_type": "code",
      "source": [
        "# 30. Write a code to convert a list of strings into a set.\n",
        "list=[\"apple\",\"banana\",\"kiwi\"]\n",
        "print(set(list))"
      ],
      "metadata": {
        "colab": {
          "base_uri": "https://localhost:8080/"
        },
        "id": "rnCnCSkgfxxq",
        "outputId": "4f2a31bd-f860-4ec8-86b4-e2abce66b39b"
      },
      "execution_count": 1,
      "outputs": [
        {
          "output_type": "stream",
          "name": "stdout",
          "text": [
            "{'kiwi', 'banana', 'apple'}\n"
          ]
        }
      ]
    },
    {
      "cell_type": "code",
      "source": [],
      "metadata": {
        "id": "SfFzvtbDhPHo"
      },
      "execution_count": null,
      "outputs": []
    }
  ]
}